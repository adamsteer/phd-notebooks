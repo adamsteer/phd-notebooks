{
 "cells": [
  {
   "cell_type": "code",
   "execution_count": 34,
   "metadata": {
    "collapsed": true
   },
   "outputs": [],
   "source": [
    "import numpy as np"
   ]
  },
  {
   "cell_type": "code",
   "execution_count": 35,
   "metadata": {
    "collapsed": true
   },
   "outputs": [],
   "source": [
    "def find_nearest_vector(array, value):\n",
    "  idx = np.array([np.linalg.norm(x+y) for (x,y) in array-value]).argmin()\n",
    "  return idx"
   ]
  },
  {
   "cell_type": "code",
   "execution_count": 36,
   "metadata": {
    "collapsed": false
   },
   "outputs": [],
   "source": [
    "## read in some pre-processed liDAR. This 2 million point bit already has ZI computed, but we ignore that for now\n",
    "lidar = np.genfromtxt('/media/adam/data/is6_f11/python_zi/is6_f11_pass1_aa522816_523019_c_zi.xyz')"
   ]
  },
  {
   "cell_type": "code",
   "execution_count": 37,
   "metadata": {
    "collapsed": true
   },
   "outputs": [],
   "source": [
    "lidar_x = np.array(lidar[:,1])\n",
    "lidar_x[np.where(np.isnan(lidar_x))] = -9999\n",
    "lidar_y = np.array(lidar[:,2])\n",
    "lidar_y[np.where(np.isnan(lidar_y))] = -9999\n",
    "\n",
    "lidar_xy = np.column_stack([lidar_x, lidar_y])\n",
    "lidar_z = lidar[:,3]"
   ]
  },
  {
   "cell_type": "code",
   "execution_count": 58,
   "metadata": {
    "collapsed": true
   },
   "outputs": [],
   "source": [
    "these = [[0,0],[0,50], [0, 100], [100,100], [0,115.162], [-198.4, 327.76],[264.2, -30.43]]"
   ]
  },
  {
   "cell_type": "code",
   "execution_count": 59,
   "metadata": {
    "collapsed": false
   },
   "outputs": [
    {
     "name": "stdout",
     "output_type": "stream",
     "text": [
      "[0, 0]\n",
      "0.94647\n",
      "[0, 50]\n",
      "0.55921\n",
      "[0, 100]\n",
      "0.42916\n",
      "[100, 100]\n",
      "0.48824\n",
      "[0, 115.162]\n",
      "0.40022\n",
      "[-198.4, 327.76]\n",
      "1.12549\n",
      "[264.2, -30.43]\n",
      "0.5837\n"
     ]
    }
   ],
   "source": [
    "point_z = []\n",
    "for this in these:\n",
    "    print(this)\n",
    "    z_ind = find_nearest_vector(lidar_xy, this)\n",
    "    point_z.append(lidar_z[z_ind])\n",
    "    print(lidar_z[z_ind])"
   ]
  },
  {
   "cell_type": "code",
   "execution_count": 56,
   "metadata": {
    "collapsed": false
   },
   "outputs": [
    {
     "data": {
      "text/plain": [
       "array([     nan,  0.95913,  0.95709, ...,  0.65786,  0.64336,  0.63736])"
      ]
     },
     "execution_count": 56,
     "metadata": {},
     "output_type": "execute_result"
    }
   ],
   "source": [
    "lidar_z"
   ]
  },
  {
   "cell_type": "code",
   "execution_count": 52,
   "metadata": {
    "collapsed": true
   },
   "outputs": [],
   "source": [
    "z_ind2 = find_nearest_vector(lidar_xy, [0,0])\n"
   ]
  },
  {
   "cell_type": "code",
   "execution_count": 53,
   "metadata": {
    "collapsed": false
   },
   "outputs": [
    {
     "data": {
      "text/plain": [
       "1198601"
      ]
     },
     "execution_count": 53,
     "metadata": {},
     "output_type": "execute_result"
    }
   ],
   "source": [
    "z_ind2"
   ]
  },
  {
   "cell_type": "code",
   "execution_count": 54,
   "metadata": {
    "collapsed": false
   },
   "outputs": [
    {
     "data": {
      "text/plain": [
       "0.94647000000000003"
      ]
     },
     "execution_count": 54,
     "metadata": {},
     "output_type": "execute_result"
    }
   ],
   "source": [
    "lidar_z[z_ind2]"
   ]
  },
  {
   "cell_type": "code",
   "execution_count": null,
   "metadata": {
    "collapsed": true
   },
   "outputs": [],
   "source": []
  }
 ],
 "metadata": {
  "kernelspec": {
   "display_name": "Python 3",
   "language": "python",
   "name": "python3"
  },
  "language_info": {
   "codemirror_mode": {
    "name": "ipython",
    "version": 3
   },
   "file_extension": ".py",
   "mimetype": "text/x-python",
   "name": "python",
   "nbconvert_exporter": "python",
   "pygments_lexer": "ipython3",
   "version": "3.4.3"
  }
 },
 "nbformat": 4,
 "nbformat_minor": 0
}
